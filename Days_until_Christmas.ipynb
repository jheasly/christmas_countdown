{
  "nbformat": 4,
  "nbformat_minor": 0,
  "metadata": {
    "colab": {
      "provenance": [],
      "include_colab_link": true
    },
    "kernelspec": {
      "name": "python3",
      "display_name": "Python 3"
    },
    "language_info": {
      "name": "python"
    }
  },
  "cells": [
    {
      "cell_type": "markdown",
      "metadata": {
        "id": "view-in-github",
        "colab_type": "text"
      },
      "source": [
        "<a href=\"https://colab.research.google.com/github/jheasly/christmas_countdown/blob/main/Days_until_Christmas.ipynb\" target=\"_parent\"><img src=\"https://colab.research.google.com/assets/colab-badge.svg\" alt=\"Open In Colab\"/></a>"
      ]
    },
    {
      "cell_type": "markdown",
      "source": [
        "## What the heck is this?\n",
        "Click/tap the black circle arrow thingy on the left below to see how many days until Christmas! (**Note:** The black circle arrow thingy may not show up until you hover your cursor over the tinted box below.👇)"
      ],
      "metadata": {
        "id": "yFewbdrLDF5i"
      }
    },
    {
      "cell_type": "code",
      "execution_count": 11,
      "metadata": {
        "colab": {
          "base_uri": "https://localhost:8080/"
        },
        "id": "nR2J9yhy88jk",
        "outputId": "b9a1cf7f-3270-4f2c-a7c0-84b58a69151d"
      },
      "outputs": [
        {
          "output_type": "stream",
          "name": "stdout",
          "text": [
            "There are 34 days until Christmas!🎄\n"
          ]
        }
      ],
      "source": [
        "import datetime\n",
        "import holidays\n",
        "import os\n",
        "import time\n",
        "\n",
        "# import black # https://github.com/psf/black\n",
        "# import pylint # https://pylint.org/\n",
        "\n",
        "# set the timezone, default is GMT\n",
        "os.environ['TZ'] = 'US/Central'\n",
        "time.tzset()\n",
        "\n",
        "HOLIDAY = 'Christmas'\n",
        "\n",
        "today = datetime.date.today()\n",
        "\n",
        "us_holidays = holidays.US(years=today.year)\n",
        "christmas_as_a_list = us_holidays.get_named(HOLIDAY)\n",
        "\n",
        "# https://stackoverflow.com/questions/363944/python-idiom-to-return-first-item-or-none\n",
        "this_years_christmas_date = next(iter(christmas_as_a_list), None)\n",
        "\n",
        "days_until_christmas = this_years_christmas_date - today\n",
        "print('There are {} days until {}!🎄'.format(days_until_christmas.days, HOLIDAY))"
      ]
    }
  ]
}